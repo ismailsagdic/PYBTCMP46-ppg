{
  "nbformat": 4,
  "nbformat_minor": 0,
  "metadata": {
    "colab": {
      "name": "Proje 1 Dokümanı.ipynb",
      "provenance": [],
      "collapsed_sections": []
    },
    "kernelspec": {
      "name": "python3",
      "display_name": "Python 3"
    },
    "language_info": {
      "name": "python"
    }
  },
  "cells": [
    {
      "cell_type": "markdown",
      "source": [
        "## **PROJE 1 - ÖĞRENCİ NOT SİSTEMİ YAZILIMI**"
      ],
      "metadata": {
        "id": "euc7umJcKe0y"
      }
    },
    {
      "cell_type": "markdown",
      "source": [
        "   **Global AI Hub, Temmuz 2022**"
      ],
      "metadata": {
        "id": "lWEuafJaLO1N"
      }
    },
    {
      "cell_type": "markdown",
      "source": [
        "**Katkıda bulunanalar: İsmail Sağdıç, Ecem Birsöz, Merve  Altın, Volkan Cebeci**"
      ],
      "metadata": {
        "id": "2pTDPUtUSje8"
      }
    },
    {
      "cell_type": "markdown",
      "source": [
        "\n",
        "Bu proje kapsamında öncelikle iki boyutlu data yapısı oluşturulmuştur. Sonrasında öğrenci adı, öğrenci soyadı, okul numarası ve ders notu değerleri kullanıcı tarafından alınıp girdiler oluşturulmaktadır. Girilen ders notu değerleri if-else döngüsü ile harf karşılıklarına dönüştürülmektedir.\n",
        "\n",
        "Kullanıcı tarafından girilen bilgiler ve harf notu karşılıkları önceden oluşturulmuş olan iki boyutlu data yapısına eklenir. Tüm bu bilgiler \"0\" tuşuna basana kadar while döngüsü kullanıldığından tekrarlanır. \"0\" tuşuna basıldığında ise döngü sona erer. Sonuçlar excel dosyası olarak alır.\n",
        "\n"
      ],
      "metadata": {
        "id": "KnB6KGZXNZOI"
      }
    }
  ]
}